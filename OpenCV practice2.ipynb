{
  "cells": [
    {
      "cell_type": "markdown",
      "metadata": {
        "id": "xm-uotfWllc_"
      },
      "source": [
        "Q1:Make 100*100 rgb pixel image with white background and make diagonal of image\n",
        "with black color."
      ]
    },
    {
      "cell_type": "code",
      "execution_count": null,
      "metadata": {
        "id": "XbGhUaPtlldD",
        "outputId": "e13fddf1-0756-476c-83a7-0581730c51df"
      },
      "outputs": [
        {
          "data": {
            "text/plain": [
              "<matplotlib.image.AxesImage at 0x11bccb1e830>"
            ]
          },
          "execution_count": 29,
          "metadata": {},
          "output_type": "execute_result"
        },
        {
          "data": {
            "image/png": "[encoded data removed]",
            "text/plain": [
              "<Figure size 432x288 with 1 Axes>"
            ]
          },
          "metadata": {
            "needs_background": "light"
          },
          "output_type": "display_data"
        }
      ],
      "source": [
        "import numpy as np\n",
        "from matplotlib import pyplot as plt\n",
        "image1=np.zeros((100,100,3),np.uint8)\n",
        "image1[:]=(255,255,255)\n",
        "plt.imshow(image1)\n",
        "plt.imshow(image1)\n",
        "for i, row in enumerate(image1):\n",
        "    for j, col in enumerate(row):\n",
        "        if (i==j):\n",
        "            image1[i,j] = 0\n",
        "\n",
        "plt.imshow(image1, cmap='gray')"
      ]
    },
    {
      "cell_type": "markdown",
      "metadata": {
        "id": "Bf5EsovRlldF"
      },
      "source": [
        "Q2- run video stream using your laptop camera and save frames when i press key\n",
        "“s” close camera when i press “q” ,name of images should be “img.png +{counter}”"
      ]
    },
    {
      "cell_type": "code",
      "execution_count": null,
      "metadata": {
        "id": "X54ctXmplldG"
      },
      "outputs": [],
      "source": [
        "import cv2\n",
        "k = cv2.waitKey(1) # 0 indicates infinete loop\n",
        "if k == ord('s'):\n",
        "     cap = cv2.VideoCapture(0)\n",
        "#cap = cv2.VideoCapture(0) # For reading from camera\n",
        "frame_count = 0\n",
        "while(cap.isOpened()):\n",
        "    ret, frame = cap.read()\n",
        "    if (ret == True):\n",
        "        frame_count += 1\n",
        "        cv2.imshow('Frame', frame)\n",
        "        k = cv2.waitKey(50) # 0 indicates infinete loop\n",
        "        if k == ord('q'):\n",
        "            break\n",
        "        #elif k == ord('s'):\n",
        "        cv2.imwrite(f'OutputFiles/output_{frame_count}.png', frame)\n",
        "    else:\n",
        "        break\n",
        "\n",
        "cap.release()\n",
        "cv2.destroyAllWindows()"
      ]
    },
    {
      "cell_type": "markdown",
      "metadata": {
        "id": "0vMcdd53lldH"
      },
      "source": [
        "Q3: Make 100*100 rgb pixel image with black background and make diagonal of image\n",
        "with (x) color such that x is came from rgb trackbar"
      ]
    },
    {
      "cell_type": "code",
      "execution_count": null,
      "metadata": {
        "id": "bByyj0k7lldI",
        "outputId": "3974cce2-21fc-497d-e3b3-518ab59b5f23"
      },
      "outputs": [
        {
          "data": {
            "text/plain": [
              "<matplotlib.image.AxesImage at 0x11bccb4e3b0>"
            ]
          },
          "execution_count": 41,
          "metadata": {},
          "output_type": "execute_result"
        },
        {
          "data": {
            "image/png": "[encoded data removed]",
            "text/plain": [
              "<Figure size 432x288 with 1 Axes>"
            ]
          },
          "metadata": {
            "needs_background": "light"
          },
          "output_type": "display_data"
        }
      ],
      "source": [
        "import numpy as np\n",
        "import cv2\n",
        "def nothing(x):\n",
        "  return\n",
        "img = np.zeros((100,100,3), np.uint8)\n",
        "image1[:]=(0,0,0)\n",
        "initial_val=0\n",
        "plt.imshow(img)\n",
        "cv2.namedWindow('Color')\n",
        "cv2.createTrackbar('r','Color',initial_val,255,nothing)\n",
        "cv2.createTrackbar('g','Color',initial_val,255,nothing)\n",
        "cv2.createTrackbar('b','Color',initial_val,255,nothing)\n",
        "while(1):\n",
        "  r= cv2.getTrackbarPos('r','Color')\n",
        "  g= cv2.getTrackbarPos('g','Color')\n",
        "  b= cv2.getTrackbarPos('b','Color')\n",
        "  for i, row in enumerate(img):\n",
        "    for j, col in enumerate(row):\n",
        "        if (i==j):\n",
        "            img[i,j] = [b,g,r]\n",
        "  cv2.imshow('Color',img)\n",
        "  k=cv2.waitKey(1)\n",
        "  if(k==ord('q')):\n",
        "    break\n",
        "cv2.destroyAllWindows()\n",
        "for i, row in enumerate(img):\n",
        "    for j, col in enumerate(row):\n",
        "        if (i==j):\n",
        "            img[i,j] = [r,g,b]\n",
        "plt.imshow(img)"
      ]
    },
    {
      "cell_type": "markdown",
      "metadata": {
        "id": "iZkMBfHClldI"
      },
      "source": [
        "create 100*100 rgb image with black background and make 1 vertical line and 1\n",
        "horizontal line the color of both should be controlled spereat from 2 trackbar\n",
        "First one “horz” and second one is “vert” "
      ]
    },
    {
      "cell_type": "code",
      "execution_count": null,
      "metadata": {
        "id": "e8HdjiFPlldJ",
        "outputId": "60275c67-6e0d-4d3b-c392-48b34b1119f0"
      },
      "outputs": [
        {
          "data": {
            "text/plain": [
              "<matplotlib.image.AxesImage at 0x11bd2e1dd80>"
            ]
          },
          "execution_count": 42,
          "metadata": {},
          "output_type": "execute_result"
        },
        {
          "data": {
            "image/png": "[encoded data removed]",
            "text/plain": [
              "<Figure size 432x288 with 1 Axes>"
            ]
          },
          "metadata": {
            "needs_background": "light"
          },
          "output_type": "display_data"
        }
      ],
      "source": [
        "import numpy as np\n",
        "import cv2\n",
        "from matplotlib import pyplot as plt\n",
        "def nothing(x):\n",
        "  return\n",
        "img = np.zeros((100,100,3), np.uint8)\n",
        "img[:]=(0,0,0)\n",
        "initial_val=0\n",
        "\n",
        "cv2.namedWindow('horz')\n",
        "cv2.createTrackbar('rh','horz',initial_val,255,nothing)\n",
        "cv2.createTrackbar('gh','horz',initial_val,255,nothing)\n",
        "cv2.createTrackbar('bh','horz',initial_val,255,nothing)\n",
        "\n",
        "cv2.namedWindow('vert')\n",
        "cv2.createTrackbar('rv','vert',initial_val,255,nothing)\n",
        "cv2.createTrackbar('gv','vert',initial_val,255,nothing)\n",
        "cv2.createTrackbar('bv','vert',initial_val,255,nothing)\n",
        "while(1):\n",
        "  rh= cv2.getTrackbarPos('rh','horz')\n",
        "  gh= cv2.getTrackbarPos('gh','horz')\n",
        "  bh= cv2.getTrackbarPos('bh','horz')\n",
        "\n",
        "  rv= cv2.getTrackbarPos('rv','vert')\n",
        "  gv= cv2.getTrackbarPos('gv','vert')\n",
        "  bv= cv2.getTrackbarPos('bv','vert')\n",
        "\n",
        "  img[50,0:100]=(bh,gh,rh)\n",
        "  img[0:100,50]=(bv,gv,rv)\n",
        "  cv2.imshow('horz',img)\n",
        "  cv2.imshow('vert',img)\n",
        "  k=cv2.waitKey(1)\n",
        "  if(k==ord('q')):\n",
        "    break\n",
        "cv2.destroyAllWindows()\n",
        "img[50,0:100]=(rh,gh,bh)\n",
        "img[0:100,50]=(rv,gv,bv)\n",
        "plt.imshow(img)"
      ]
    },
    {
      "cell_type": "markdown",
      "metadata": {
        "id": "4g5nYjrclldK"
      },
      "source": [
        "Q5:create 250*250 rgb image with black background and make 1 vertical line and 1\n",
        "horizontal line with red color and both should be controlled spereat from 2\n",
        "trackbar to select the horizontal line in which row and vertical line in which\n",
        "column.\n",
        "First one “horz” and second one is “vert” (Trackbar) "
      ]
    },
    {
      "cell_type": "code",
      "execution_count": null,
      "metadata": {
        "id": "IB6UM2f9lldL",
        "outputId": "2049ed39-09ef-4fdc-d522-469860e6b6a5"
      },
      "outputs": [
        {
          "data": {
            "text/plain": [
              "<matplotlib.image.AxesImage at 0x11bd2eb14e0>"
            ]
          },
          "execution_count": 44,
          "metadata": {},
          "output_type": "execute_result"
        },
        {
          "data": {
            "image/png": "[encoded data removed]",
            "text/plain": [
              "<Figure size 432x288 with 1 Axes>"
            ]
          },
          "metadata": {
            "needs_background": "light"
          },
          "output_type": "display_data"
        }
      ],
      "source": [
        "import numpy as np\n",
        "import cv2\n",
        "from matplotlib import pyplot as plt\n",
        "def nothing(x):\n",
        "  return\n",
        "img = np.zeros((250,250,3), np.uint8)\n",
        "img[:]=(0,0,0)\n",
        "initial_val=0\n",
        "\n",
        "cv2.namedWindow('horz')\n",
        "cv2.createTrackbar('rh','horz',initial_val,239,nothing)\n",
        "\n",
        "cv2.namedWindow('vert')\n",
        "cv2.createTrackbar('rv','vert',initial_val,239,nothing)\n",
        "\n",
        "while(1):\n",
        "  img = np.zeros((250,250,3), np.uint8)\n",
        "  rh= cv2.getTrackbarPos('rh','horz')\n",
        "  rv= cv2.getTrackbarPos('rv','vert')\n",
        "  img[rh,0:250]=[0,0,255]\n",
        "  img[0:250,rv]=[0,0,255]\n",
        "  cv2.imshow('horz',img)\n",
        "  cv2.imshow('vert',img)\n",
        "  k=cv2.waitKey(1)\n",
        "  if(k==ord('q')):\n",
        "    break\n",
        "cv2.destroyAllWindows()\n",
        "\n",
        "img[rh,0:250]=(255,0,0)\n",
        "img[0:250,rv]=(255,0,0)\n",
        "plt.imshow(img)\n",
        "# ouput at 94,94"
      ]
    }
  ],
  "metadata": {
    "kernelspec": {
      "display_name": "Python 3.10.4 64-bit",
      "language": "python",
      "name": "python3"
    },
    "language_info": {
      "codemirror_mode": {
        "name": "ipython",
        "version": 3
      },
      "file_extension": ".py",
      "mimetype": "text/x-python",
      "name": "python",
      "nbconvert_exporter": "python",
      "pygments_lexer": "ipython3",
      "version": "3.10.4"
    },
    "orig_nbformat": 4,
    "vscode": {
      "interpreter": {
        "hash": "8c3d4d9970fc5c09c50d9318a9c7fbf4d0159e4b28833276f5678ee22bded273"
      }
    },
    "colab": {
      "provenance": []
    }
  },
  "nbformat": 4,
  "nbformat_minor": 0
}