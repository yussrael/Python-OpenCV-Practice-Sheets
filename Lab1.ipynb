{
  "nbformat": 4,
  "nbformat_minor": 0,
  "metadata": {
    "colab": {
      "provenance": []
    },
    "kernelspec": {
      "name": "python3",
      "display_name": "Python 3"
    },
    "language_info": {
      "name": "python"
    }
  },
  "cells": [
    {
      "cell_type": "markdown",
      "source": [
        "Python Assignment 1\n"
      ],
      "metadata": {
        "id": "80oGvZXh5Umi"
      }
    },
    {
      "cell_type": "code",
      "source": [
        "year=input('please enter birth year')\n",
        "\n",
        "print(2022-int(year))"
      ],
      "metadata": {
        "colab": {
          "base_uri": "https://localhost:8080/"
        },
        "id": "ZMo4JPmQ5B7N",
        "outputId": "85619a11-2d97-4012-8756-98ef2a5d202a"
      },
      "execution_count": null,
      "outputs": [
        {
          "output_type": "stream",
          "name": "stdout",
          "text": [
            "please enter birth year2000\n",
            "22\n"
          ]
        }
      ]
    },
    {
      "cell_type": "markdown",
      "source": [
        "Python Assignment 2\n"
      ],
      "metadata": {
        "id": "75dgWLVH5ymP"
      }
    },
    {
      "cell_type": "code",
      "source": [
        "number=input('please enter a natural number')\n",
        "sum=0\n",
        "avg=0\n",
        "for i in range(1,int(number)+1,1):\n",
        "  sum+=i\n",
        "print('sum = ',sum)\n",
        "avg=int(sum)/int(number)\n",
        "print('average = ', avg)"
      ],
      "metadata": {
        "colab": {
          "base_uri": "https://localhost:8080/"
        },
        "id": "qzIwctX85269",
        "outputId": "ba107471-84ab-4f20-fbf5-4b4a2aefc35a"
      },
      "execution_count": null,
      "outputs": [
        {
          "output_type": "stream",
          "name": "stdout",
          "text": [
            "please enter a natural number50\n",
            "sum =  1275\n",
            "average =  25.5\n"
          ]
        }
      ]
    },
    {
      "cell_type": "markdown",
      "source": [
        "Python Program to Check Even or Odd"
      ],
      "metadata": {
        "id": "fy1Q4PB57bjw"
      }
    },
    {
      "cell_type": "code",
      "source": [
        "num=input('please enter any number')\n",
        "if (num=='q'):\n",
        "  exit()\n",
        "elif(int(num)%2==0):\n",
        "  print('number is even')\n",
        "else:\n",
        "  print('number is odd')\n",
        "\n"
      ],
      "metadata": {
        "colab": {
          "base_uri": "https://localhost:8080/"
        },
        "id": "_KuoFJhZ7gnY",
        "outputId": "c35844f4-e9c8-459c-ef1e-6fec20121013"
      },
      "execution_count": null,
      "outputs": [
        {
          "output_type": "stream",
          "name": "stdout",
          "text": [
            "please enter any number4\n",
            "number is even\n"
          ]
        }
      ]
    },
    {
      "cell_type": "markdown",
      "source": [
        "Task 7"
      ],
      "metadata": {
        "id": "MW879zzdMbrt"
      }
    },
    {
      "cell_type": "code",
      "source": [
        "\n",
        "cr1=int(input('enter first ascii'))\n",
        "cr2=int(input('enter second ascii'))\n",
        "cr3=int(input('enter third ascii'))\n",
        "print(chr(cr1),chr(cr2),chr(cr3))"
      ],
      "metadata": {
        "colab": {
          "base_uri": "https://localhost:8080/"
        },
        "id": "qKTXszdTNn5h",
        "outputId": "bdd40e47-56e9-455a-f51a-fa3b528e8126"
      },
      "execution_count": null,
      "outputs": [
        {
          "output_type": "stream",
          "name": "stdout",
          "text": [
            "enter first ascii 25\n",
            "enter second ascii 28\n",
            "enter third ascii 30\n",
            "\u0019 \u001c \u001e\n"
          ]
        }
      ]
    },
    {
      "cell_type": "markdown",
      "source": [
        "Task 8"
      ],
      "metadata": {
        "id": "2eTQ_8VPJBsl"
      }
    },
    {
      "cell_type": "code",
      "source": [
        "radius=input('please enter radius')\n",
        "area=float(radius)*float(radius)*3.14\n",
        "print('the area =',float(area))\n"
      ],
      "metadata": {
        "colab": {
          "base_uri": "https://localhost:8080/"
        },
        "id": "48tL-gPcI-XL",
        "outputId": "53802905-c395-4025-a236-99abdee6b01b"
      },
      "execution_count": null,
      "outputs": [
        {
          "output_type": "stream",
          "name": "stdout",
          "text": [
            "please enter radius10\n",
            "the area = 314.0\n"
          ]
        }
      ]
    },
    {
      "cell_type": "markdown",
      "source": [
        "Task 9"
      ],
      "metadata": {
        "id": "0ypUKG8ZJ1U6"
      }
    },
    {
      "cell_type": "code",
      "source": [
        "def rev(x):\n",
        "  return x[::-1]\n",
        "first=input('enter first name')\n",
        "last=input('enter lastname')\n",
        "first=rev(first)\n",
        "last= rev(last)\n",
        "print(first,' ', last)\n",
        "\n"
      ],
      "metadata": {
        "colab": {
          "base_uri": "https://localhost:8080/"
        },
        "id": "E_S8WFppJ3bU",
        "outputId": "69f23c4e-0ef9-46df-c1ae-c4d4c7c3e0db"
      },
      "execution_count": null,
      "outputs": [
        {
          "output_type": "stream",
          "name": "stdout",
          "text": [
            "enter first name yussra\n",
            "enter lastname Elsayed\n",
            "arssuy    deyaslE \n"
          ]
        }
      ]
    },
    {
      "cell_type": "markdown",
      "source": [
        "Task 10"
      ],
      "metadata": {
        "id": "oMvgmIMMRDCX"
      }
    },
    {
      "cell_type": "code",
      "source": [
        "name=' twinkle, twinkle,little star \\n \\t How I wonder what you are\\n \\t \\tup above the world so high \\n \\t \\tlike a diomand in the sky\\n twinkle twinkle little star \\n \\t How I wonder what you are'\n",
        "print(name)"
      ],
      "metadata": {
        "colab": {
          "base_uri": "https://localhost:8080/"
        },
        "id": "dZ_ktPKHRF0y",
        "outputId": "a4b1ee28-f6e9-4000-cb8d-d774996132c4"
      },
      "execution_count": null,
      "outputs": [
        {
          "output_type": "stream",
          "name": "stdout",
          "text": [
            " twinkle, twinkle,little star \n",
            " \t How I wonder what you are\n",
            " \t \tup above the world so high \n",
            " \t \tlike a diomand in the sky\n",
            " twinkle twinkle little star \n",
            " \t How I wonder what you are\n"
          ]
        }
      ]
    }
  ]
}