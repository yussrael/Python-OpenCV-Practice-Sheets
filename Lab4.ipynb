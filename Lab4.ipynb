{
  "nbformat": 4,
  "nbformat_minor": 0,
  "metadata": {
    "colab": {
      "provenance": []
    },
    "kernelspec": {
      "name": "python3",
      "display_name": "Python 3"
    },
    "language_info": {
      "name": "python"
    }
  },
  "cells": [
    {
      "cell_type": "markdown",
      "source": [
        "Write a Python class to find a pair of elements (indices of the two numbers)\n",
        "from a given array whose sum equals a specific target number."
      ],
      "metadata": {
        "id": "bQZNx7JQyg5X"
      }
    },
    {
      "cell_type": "code",
      "execution_count": null,
      "metadata": {
        "colab": {
          "base_uri": "https://localhost:8080/"
        },
        "id": "QLvFeXSDycjQ",
        "outputId": "64ac9786-d6a4-46a6-97a9-66bb30e5d32b"
      },
      "outputs": [
        {
          "output_type": "stream",
          "name": "stdout",
          "text": [
            "0 3\n"
          ]
        }
      ],
      "source": [
        "class PairOfElements(object):\n",
        "  def pairOfElements(self,lst,sum):\n",
        "    self.lst=lst\n",
        "    self.sum=sum\n",
        "    outputList=[]\n",
        "    for i in lst:\n",
        "      for j in lst:\n",
        "        if(i+j==sum):\n",
        "         outputList.append(lst.index(i))\n",
        "         outputList.append(lst.index(j))\n",
        "    print(outputList[0],outputList[1]) \n",
        "    \n",
        "obj1=PairOfElements()\n",
        "obj1.pairOfElements([10,20,10,40,50,60,],50)"
      ]
    },
    {
      "cell_type": "markdown",
      "source": [
        "Write a Python program to check whether a given string contains a capital\n",
        "letter, a lower case letter, a number and a minimum length (8).\n",
        "\n"
      ],
      "metadata": {
        "id": "Qi9xLYBB3uV0"
      }
    },
    {
      "cell_type": "code",
      "source": [
        "class StringClass():\n",
        "  def validString(self,str):\n",
        "    self.str=str\n",
        "    if(len(str)<8):return 'not valid'\n",
        "    if(str.isupper()):return 'not valid'\n",
        "    if(str.islower()):return 'not valid'\n",
        "    return 'Valid string'\n",
        "\n",
        "string=input('enter a string: ')\n",
        "obj=StringClass()\n",
        "obj.validString(string)\n"
      ],
      "metadata": {
        "colab": {
          "base_uri": "https://localhost:8080/",
          "height": 53
        },
        "id": "7nZOu-Vr30-x",
        "outputId": "b835b390-510f-47d6-f64c-7ea1b27443ae"
      },
      "execution_count": null,
      "outputs": [
        {
          "name": "stdout",
          "output_type": "stream",
          "text": [
            "enter a string: YussraElsayedIbrahim\n"
          ]
        },
        {
          "output_type": "execute_result",
          "data": {
            "text/plain": [
              "'Valid string'"
            ],
            "application/vnd.google.colaboratory.intrinsic+json": {
              "type": "string"
            }
          },
          "metadata": {},
          "execution_count": 5
        }
      ]
    },
    {
      "cell_type": "markdown",
      "source": [
        "Write a Python program to multiply two integers without using the * operator in\n",
        "python"
      ],
      "metadata": {
        "id": "pQ23NeFe7g64"
      }
    },
    {
      "cell_type": "code",
      "source": [
        "class Multiplication():\n",
        "  def multiNumber(self,num1,num2):\n",
        "    self.num1=num1\n",
        "    self.num2=num2\n",
        "    return num1*num2\n",
        "obj=Multiplication()\n",
        "obj.multiNumber(5,6)"
      ],
      "metadata": {
        "colab": {
          "base_uri": "https://localhost:8080/"
        },
        "id": "0BTF02717j1J",
        "outputId": "4948aa13-4fd5-4632-c80b-1283d3fc5a53"
      },
      "execution_count": null,
      "outputs": [
        {
          "output_type": "execute_result",
          "data": {
            "text/plain": [
              "30"
            ]
          },
          "metadata": {},
          "execution_count": 29
        }
      ]
    },
    {
      "cell_type": "markdown",
      "source": [
        "4-. Write a Python program to construct the following pattern, using a nested for loop.\n"
      ],
      "metadata": {
        "id": "esmf6Ftr8GfK"
      }
    },
    {
      "cell_type": "code",
      "source": [
        "for i in range(6):\n",
        "  for j in range(i):\n",
        "    print('*', end='')\n",
        "  print('')\n",
        "for i in range(5):\n",
        "  for j in range(4-i, 0, -1):\n",
        "    print('*', end='')\n",
        "  print('')"
      ],
      "metadata": {
        "colab": {
          "base_uri": "https://localhost:8080/"
        },
        "id": "MEb1ExUa8H5i",
        "outputId": "98fc910a-87d7-4bf8-b798-f67caace69c1"
      },
      "execution_count": null,
      "outputs": [
        {
          "output_type": "stream",
          "name": "stdout",
          "text": [
            "\n",
            "*\n",
            "**\n",
            "***\n",
            "****\n",
            "*****\n",
            "****\n",
            "***\n",
            "**\n",
            "*\n",
            "\n"
          ]
        }
      ]
    },
    {
      "cell_type": "markdown",
      "source": [
        "Write a Python program to count the number of even and odd numbers from a\n",
        "series of numbers. \n"
      ],
      "metadata": {
        "id": "sWYdze1E-8I8"
      }
    },
    {
      "cell_type": "code",
      "source": [
        "lst=[]\n",
        "odd=0\n",
        "even=0\n",
        "num = int(input(\"Enter number of elements : \"))\n",
        "for i in range(0, num):\n",
        "    element = int(input())\n",
        "    lst.append(element)\n",
        "for j in lst:\n",
        "  if(j%2==0):\n",
        "    even=even+1\n",
        "  elif(j%2!=0):\n",
        "    odd=odd+1\n",
        "print('Number of even numbers',even)\n",
        "print('Number of odd numbers',odd)"
      ],
      "metadata": {
        "colab": {
          "base_uri": "https://localhost:8080/"
        },
        "id": "1pdlvQ8V-_rz",
        "outputId": "1e1f183e-931d-48eb-b608-ddad175a2d3c"
      },
      "execution_count": null,
      "outputs": [
        {
          "output_type": "stream",
          "name": "stdout",
          "text": [
            "Enter number of elements : 5\n",
            "1\n",
            "1\n",
            "2\n",
            "3\n",
            "4\n",
            "Number of even numbers 2\n",
            "Number of odd numbers 3\n"
          ]
        }
      ]
    },
    {
      "cell_type": "markdown",
      "source": [
        "6. Write a Python program to check a string represent an integer or not"
      ],
      "metadata": {
        "id": "AtxppkKwBMCL"
      }
    },
    {
      "cell_type": "code",
      "source": [
        "value=input('enter a string: ')\n",
        "if (value.isnumeric()):\n",
        "  print('The string is an integer')\n",
        "else: print('The string is not an integer')"
      ],
      "metadata": {
        "colab": {
          "base_uri": "https://localhost:8080/"
        },
        "id": "evtw5aXRBPNh",
        "outputId": "56526c5c-21bb-4b98-ccce-74acb5a471c0"
      },
      "execution_count": null,
      "outputs": [
        {
          "output_type": "stream",
          "name": "stdout",
          "text": [
            "enter a string: yussra\n",
            "The string is not an integer\n"
          ]
        }
      ]
    },
    {
      "cell_type": "markdown",
      "source": [
        "7. Write a Python function that accepts a string and calculate the number of upper\n",
        "case letters and lower case letters."
      ],
      "metadata": {
        "id": "lUalMbXIDM7i"
      }
    },
    {
      "cell_type": "code",
      "source": [
        "class letters():\n",
        "  def upperLower(self,str):\n",
        "    self.str=str\n",
        "    upper=0\n",
        "    lower=0\n",
        "    for i in str:\n",
        "      if (i.isupper()): upper=upper+1\n",
        "      if (i.islower()): lower=lower+1\n",
        "    print('No. of Upper case characters : ',upper)\n",
        "    print('No. of Lower case characters : ',lower)\n",
        "string=letters()\n",
        "string.upperLower('YusSra')\n"
      ],
      "metadata": {
        "colab": {
          "base_uri": "https://localhost:8080/"
        },
        "id": "Szniv5VRDQ97",
        "outputId": "bd5887bb-675e-4790-f098-b8941c911b94"
      },
      "execution_count": null,
      "outputs": [
        {
          "output_type": "stream",
          "name": "stdout",
          "text": [
            "No. of Upper case characters :  2\n",
            "No. of Lower case characters :  4\n"
          ]
        }
      ]
    }
  ]
}