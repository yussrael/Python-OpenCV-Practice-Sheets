{
  "nbformat": 4,
  "nbformat_minor": 0,
  "metadata": {
    "colab": {
      "provenance": []
    },
    "kernelspec": {
      "name": "python3",
      "display_name": "Python 3"
    },
    "language_info": {
      "name": "python"
    }
  },
  "cells": [
    {
      "cell_type": "markdown",
      "source": [
        "Question 1"
      ],
      "metadata": {
        "id": "kG_XvW7eFA6a"
      }
    },
    {
      "cell_type": "code",
      "execution_count": null,
      "metadata": {
        "colab": {
          "base_uri": "https://localhost:8080/"
        },
        "id": "xKFrIbXrE7qh",
        "outputId": "090a6259-74cb-4dab-99be-3cd9e617d25a"
      },
      "outputs": [
        {
          "output_type": "stream",
          "name": "stdout",
          "text": [
            "Mercedes\n",
            "120 km/h\n",
            "40 miles\n"
          ]
        }
      ],
      "source": [
        "class Vehicle:\n",
        "  def __init__(self,name,max_speed,mileage):\n",
        "    self.name=name\n",
        "    self.max_speed=max_speed\n",
        "    self.mileage=mileage\n",
        "  \n",
        "Car=Vehicle(\"Mercedes\",120,40)\n",
        "print(Car.name)\n",
        "print(Car.max_speed,'km/h')\n",
        "print(Car.mileage,'miles')"
      ]
    },
    {
      "cell_type": "markdown",
      "source": [
        "Question 2"
      ],
      "metadata": {
        "id": "BR1zMLojGtTn"
      }
    },
    {
      "cell_type": "code",
      "source": [
        "class Vehicle:\n",
        "  def __init__(self,name,max_speed,mileage):\n",
        "    self.name=name\n",
        "    self.max_speed=max_speed\n",
        "    self.mileage=mileage\n",
        "class Bus(Vehicle):\n",
        "  pass\n",
        "  print('this is bus class')\n",
        "bus1=Bus('name',20,30)\n",
        "print(bus1.name)\n",
        "print(bus1.max_speed,'km/h')\n",
        "print(bus1.mileage,'miles')"
      ],
      "metadata": {
        "colab": {
          "base_uri": "https://localhost:8080/"
        },
        "id": "LMriIU0UGvSp",
        "outputId": "340f77c5-71ee-45d0-b8c3-970e7510f453"
      },
      "execution_count": null,
      "outputs": [
        {
          "output_type": "stream",
          "name": "stdout",
          "text": [
            "this is bus class\n",
            "name\n",
            "20 km/h\n",
            "30 miles\n"
          ]
        }
      ]
    },
    {
      "cell_type": "markdown",
      "source": [
        "Question 3"
      ],
      "metadata": {
        "id": "FpWba1zMIIjD"
      }
    },
    {
      "cell_type": "code",
      "source": [
        "class Vehicle(object):\n",
        "  def __init__(self,name,max_speed,mileage):\n",
        "    self.name=name\n",
        "    self.max_speed=max_speed\n",
        "    self.mileage=mileage\n",
        "  def seating_capacity(self,capacity):\n",
        "    self.capacity=capacity\n",
        "    return \"The seating capacity of a\", self.name , 'is',capacity, \"passengers\"\n",
        "car= Vehicle('BMW',40,80)\n",
        "car.seating_capacity(5)"
      ],
      "metadata": {
        "colab": {
          "base_uri": "https://localhost:8080/"
        },
        "id": "U5mpn8L9IKQK",
        "outputId": "5341401b-1766-46c6-eba9-c37ceace0d17"
      },
      "execution_count": null,
      "outputs": [
        {
          "output_type": "execute_result",
          "data": {
            "text/plain": [
              "('The seating capacity of a', 'BMW', 'is', 5, 'passengers')"
            ]
          },
          "metadata": {},
          "execution_count": 29
        }
      ]
    },
    {
      "cell_type": "markdown",
      "source": [
        "Question 4"
      ],
      "metadata": {
        "id": "WvE2Gc-6LVi-"
      }
    },
    {
      "cell_type": "code",
      "source": [
        "class Vehicle(object):\n",
        "  def __init__(self,name,max_speed,mileage):\n",
        "    self.name=name\n",
        "    self.max_speed=max_speed\n",
        "    self.mileage=mileage\n",
        "  def seating_capacity(self,capacity):\n",
        "    self.capacity=capacity\n",
        "    return \"The seating capacity of a\", self.name , 'is',capacity, \"passengers\"\n",
        "class child(Vehicle):\n",
        "  pass\n",
        "  def seating_capacity(self):\n",
        "    return \"The seating capacity of a\", self.name , 'is 50 passengers'\n",
        "car= child('BMW',40,80)\n",
        "car.seating_capacity()"
      ],
      "metadata": {
        "colab": {
          "base_uri": "https://localhost:8080/"
        },
        "id": "q4jMrd9QLW4e",
        "outputId": "6fb7dc45-64be-4d28-af38-debd396a9b24"
      },
      "execution_count": null,
      "outputs": [
        {
          "output_type": "execute_result",
          "data": {
            "text/plain": [
              "('The seating capacity of a', 'BMW', 'is 50 passengers')"
            ]
          },
          "metadata": {},
          "execution_count": 32
        }
      ]
    },
    {
      "cell_type": "markdown",
      "source": [
        "Question 5"
      ],
      "metadata": {
        "id": "o9D7MzjdMOrJ"
      }
    },
    {
      "cell_type": "code",
      "source": [
        "class Vehicle:\n",
        "  def __init__(self,name,max_speed,mileage):\n",
        "    self.name=name\n",
        "    self.max_speed=max_speed\n",
        "    self.mileage=mileage\n",
        "class Bus(Vehicle):\n",
        "  def __init__(self,name,max_speed,mileage):\n",
        "    Vehicle.__init__  \n",
        "  capacity=50\n",
        "  print('this is bus class')\n",
        "  def cap(self):\n",
        "    print( \"The seating capacity of the bus is\", self.capacity , 'passengers')\n",
        "\n",
        "bus1=Bus('name',20,30)\n",
        "bus1.cap()\n"
      ],
      "metadata": {
        "colab": {
          "base_uri": "https://localhost:8080/"
        },
        "id": "f3mRWUfnMQeZ",
        "outputId": "2e308447-231b-4ec4-919b-49b2f3b0046e"
      },
      "execution_count": null,
      "outputs": [
        {
          "output_type": "stream",
          "name": "stdout",
          "text": [
            "this is bus class\n",
            "The seating capacity of the bus is 50 passengers\n"
          ]
        }
      ]
    },
    {
      "cell_type": "markdown",
      "source": [
        "Question 6"
      ],
      "metadata": {
        "id": "LO0tLAG9N_IX"
      }
    },
    {
      "cell_type": "code",
      "source": [
        "class Vehicle:\n",
        "  def __init__(self,name,max_speed,mileage):\n",
        "    self.name=name\n",
        "    self.max_speed=max_speed\n",
        "    self.mileage=mileage\n",
        "class Bus(Vehicle):\n",
        "  def __init__(self,name,max_speed,mileage):\n",
        "    Vehicle.__init__  \n",
        "  def fare(self, capacity):\n",
        "    self.capacity=capacity\n",
        "    Fare = capacity *100\n",
        "    return Fare\n",
        "bus1=Bus('name',20,30)\n",
        "cap=bus1.fare(50)\n",
        "print('the renting fare of the bus per day=',cap)"
      ],
      "metadata": {
        "colab": {
          "base_uri": "https://localhost:8080/"
        },
        "id": "vm2BE3sWOAYL",
        "outputId": "90b8b77b-2cc8-4729-b92d-d2a304f82323"
      },
      "execution_count": null,
      "outputs": [
        {
          "output_type": "stream",
          "name": "stdout",
          "text": [
            "the renting fare of the bus per day= 5000\n"
          ]
        }
      ]
    }
  ]
}