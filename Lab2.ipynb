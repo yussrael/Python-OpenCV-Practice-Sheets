{
  "nbformat": 4,
  "nbformat_minor": 0,
  "metadata": {
    "colab": {
      "provenance": []
    },
    "kernelspec": {
      "name": "python3",
      "display_name": "Python 3"
    },
    "language_info": {
      "name": "python"
    }
  },
  "cells": [
    {
      "cell_type": "markdown",
      "source": [
        "Question 1"
      ],
      "metadata": {
        "id": "X6-qGigMDsJU"
      }
    },
    {
      "cell_type": "code",
      "execution_count": null,
      "metadata": {
        "colab": {
          "base_uri": "https://localhost:8080/"
        },
        "id": "G4CDZzn0DoY7",
        "outputId": "7a1301d9-01c3-435a-9856-f26f04021d33"
      },
      "outputs": [
        {
          "output_type": "stream",
          "name": "stdout",
          "text": [
            "please enter a number456\n",
            "6\n"
          ]
        }
      ],
      "source": [
        "# Perfect\n",
        "number=int(input('please enter a number'))\n",
        "number=number%10\n",
        "print(number)"
      ]
    },
    {
      "cell_type": "markdown",
      "source": [
        "Question 2"
      ],
      "metadata": {
        "id": "h7tqkgLkEEq9"
      }
    },
    {
      "cell_type": "code",
      "source": [
        "number=int(input('please enter a number'))\n",
        "number=number%10\n",
        "if(number%3==0):\n",
        "  print('number is devisible by 3')\n",
        "else:\n",
        "  print('number is not devisible by 3')"
      ],
      "metadata": {
        "colab": {
          "base_uri": "https://localhost:8080/"
        },
        "id": "hBiXx5uHEGIl",
        "outputId": "8bd4b26b-d292-4bab-aaea-1a29e9d84489"
      },
      "execution_count": null,
      "outputs": [
        {
          "output_type": "stream",
          "name": "stdout",
          "text": [
            "please enter a number456\n",
            "number is devisible by 3\n"
          ]
        }
      ]
    },
    {
      "cell_type": "markdown",
      "source": [
        "Question 3"
      ],
      "metadata": {
        "id": "te90Ie2REaKt"
      }
    },
    {
      "cell_type": "code",
      "source": [
        "week=int(input('enter a number corresbonding to a week day from 1 to 7 '))\n",
        "weekdays=['saturday','sunday','monday','tuesday','wednesday','thuresday','friday']\n",
        "print(weekdays[week])"
      ],
      "metadata": {
        "colab": {
          "base_uri": "https://localhost:8080/"
        },
        "id": "wvOtufokEi1o",
        "outputId": "7a2d5139-9098-4031-e7d6-370df6238385"
      },
      "execution_count": null,
      "outputs": [
        {
          "output_type": "stream",
          "name": "stdout",
          "text": [
            "enter a number corresbonding to a week day from 1 to 7 5\n",
            "thuresday\n"
          ]
        }
      ]
    },
    {
      "cell_type": "markdown",
      "source": [
        "Question 4\n"
      ],
      "metadata": {
        "id": "XSVuURUGGjfE"
      }
    },
    {
      "cell_type": "code",
      "source": [
        "char=input('enter a character: ')\n",
        "Vowels=['a','e','o','i','u']\n",
        "result='not vowel'\n",
        "for item in Vowels:\n",
        "  if (char==item):\n",
        "    result='vowel'\n",
        "print(result)"
      ],
      "metadata": {
        "colab": {
          "base_uri": "https://localhost:8080/"
        },
        "id": "rbOVHBcgGlbG",
        "outputId": "13a5250c-00b1-4183-cc25-cac361e51c50"
      },
      "execution_count": null,
      "outputs": [
        {
          "output_type": "stream",
          "name": "stdout",
          "text": [
            "enter a character: a\n",
            "vowel\n"
          ]
        }
      ]
    },
    {
      "cell_type": "markdown",
      "source": [
        "Question 5"
      ],
      "metadata": {
        "id": "OBJgToi0I5VW"
      }
    },
    {
      "cell_type": "code",
      "source": [
        "marked_price=int(input('please enter the marked price'))\n",
        "if(marked_price>10000):\n",
        "  net=marked_price-(marked_price*0.20)\n",
        "  print(net)\n",
        "elif(marked_price>7000 and marked_price<=10000):\n",
        "  net=marked_price-(marked_price*0.15)\n",
        "  print(net)\n",
        "elif(marked_price<=7000):\n",
        "  net=marked_price-(marked_price*0.10)\n",
        "  print(net)"
      ],
      "metadata": {
        "colab": {
          "base_uri": "https://localhost:8080/"
        },
        "id": "j0irxmLcI66d",
        "outputId": "c4aac2c7-e230-4ef0-a895-8a9aaa6d187e"
      },
      "execution_count": null,
      "outputs": [
        {
          "output_type": "stream",
          "name": "stdout",
          "text": [
            "please enter the marked price7500\n",
            "6375.0\n"
          ]
        }
      ]
    },
    {
      "cell_type": "markdown",
      "source": [
        "Question 6"
      ],
      "metadata": {
        "id": "8C_qhTPpNEkg"
      }
    },
    {
      "cell_type": "code",
      "source": [
        "lst = [10, 20, 30, 40, 50, 60, 70, 80, 90, 100]\n",
        "print(lst[1:9:2])"
      ],
      "metadata": {
        "colab": {
          "base_uri": "https://localhost:8080/"
        },
        "id": "RW2hsDLSNGfZ",
        "outputId": "11b50783-872b-4735-b3a3-2024dbfd059e"
      },
      "execution_count": null,
      "outputs": [
        {
          "output_type": "stream",
          "name": "stdout",
          "text": [
            "[20, 40, 60, 80]\n"
          ]
        }
      ]
    },
    {
      "cell_type": "markdown",
      "source": [
        "Question 7"
      ],
      "metadata": {
        "id": "DHQqagKBOMTQ"
      }
    },
    {
      "cell_type": "code",
      "source": [
        "rows = 4\n",
        "for i in range(1, rows + 1):\n",
        "    for j in range(1, i + 1):\n",
        "        print(j, end=' ')\n",
        "    print('')"
      ],
      "metadata": {
        "colab": {
          "base_uri": "https://localhost:8080/"
        },
        "id": "RVDy7MZpON7n",
        "outputId": "c01b08bb-e5cd-4693-dafc-a270bdf57f77"
      },
      "execution_count": null,
      "outputs": [
        {
          "output_type": "stream",
          "name": "stdout",
          "text": [
            "1 \n",
            "1 2 \n",
            "1 2 3 \n",
            "1 2 3 4 \n"
          ]
        }
      ]
    },
    {
      "cell_type": "markdown",
      "source": [
        "Question 8"
      ],
      "metadata": {
        "id": "6Y_OBNg0P2EF"
      }
    },
    {
      "cell_type": "code",
      "source": [
        "sum=0\n",
        "avg=0\n",
        "count=0\n",
        "while True:\n",
        "  number=int(input('enter a number: '))\n",
        "  sum+=number\n",
        "  count+=1\n",
        "  avg=sum/count\n",
        "  if(number==0):\n",
        "    break\n",
        "print('sum is',sum)\n",
        "print('average is', avg)"
      ],
      "metadata": {
        "colab": {
          "base_uri": "https://localhost:8080/"
        },
        "id": "i1JTcGHEP3nF",
        "outputId": "3938c482-cd11-4148-949c-48d59e2c7133"
      },
      "execution_count": null,
      "outputs": [
        {
          "output_type": "stream",
          "name": "stdout",
          "text": [
            "enter a number: 5\n",
            "enter a number: 6\n",
            "enter a number: 3\n",
            "enter a number: 0\n",
            "sum is 14\n",
            "average is 3.5\n"
          ]
        }
      ]
    },
    {
      "cell_type": "markdown",
      "source": [
        "Question 9"
      ],
      "metadata": {
        "id": "oDgJMJufQ1gP"
      }
    },
    {
      "cell_type": "code",
      "source": [
        "lst=[]\n",
        "for x in range(4,30):\n",
        "  if(x%2==1):\n",
        "    lst.append(x)\n",
        "print(lst)"
      ],
      "metadata": {
        "colab": {
          "base_uri": "https://localhost:8080/"
        },
        "id": "6Lei8AGWQ35b",
        "outputId": "9a72ccf8-a7b9-4d2d-a520-f61e28c16631"
      },
      "execution_count": null,
      "outputs": [
        {
          "output_type": "stream",
          "name": "stdout",
          "text": [
            "[5, 7, 9, 11, 13, 15, 17, 19, 21, 23, 25, 27, 29]\n"
          ]
        }
      ]
    },
    {
      "cell_type": "markdown",
      "source": [
        "Question 10"
      ],
      "metadata": {
        "id": "0Igt8zcXRYyH"
      }
    },
    {
      "cell_type": "code",
      "source": [
        "lst=[100,30,22,40,60,20,10,300]\n",
        "max=lst[0]\n",
        "min=lst[0]\n",
        "for i in lst:\n",
        "  if(i>max):\n",
        "    max=i\n",
        "  if(i<min):\n",
        "    min=i\n",
        "print('max=', max)\n",
        "print('min=', min)"
      ],
      "metadata": {
        "colab": {
          "base_uri": "https://localhost:8080/"
        },
        "id": "FvWt0Fk_RcND",
        "outputId": "39665e40-5b87-4cff-b9fd-43e19ab18f4a"
      },
      "execution_count": null,
      "outputs": [
        {
          "output_type": "stream",
          "name": "stdout",
          "text": [
            "max= 300\n",
            "min= 10\n"
          ]
        }
      ]
    }
  ]
}