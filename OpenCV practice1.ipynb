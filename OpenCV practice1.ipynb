{
  "nbformat": 4,
  "nbformat_minor": 0,
  "metadata": {
    "colab": {
      "provenance": [],
      "collapsed_sections": []
    },
    "kernelspec": {
      "name": "python3",
      "display_name": "Python 3"
    },
    "language_info": {
      "name": "python"
    }
  },
  "cells": [
    {
      "cell_type": "markdown",
      "source": [
        "Q1- construct 1d numpy array, 2d numpy array,3d numpy array.\n"
      ],
      "metadata": {
        "id": "sfilu9Ei8UX-"
      }
    },
    {
      "cell_type": "code",
      "source": [
        "a = np.array([1, 2, 3, 4])\n",
        "b = np.array([[1, 2, 3, 4], [5, 6, 7, 8], [9, 10, 11, 12]])\n",
        "c = np.array([[[2,17], [45, 78]], [[88, 92], [60, 76]],[[76,33],[20,18]]])\n",
        "print(a)\n",
        "print(b[0])\n",
        "print(c[0][0])\n"
      ],
      "metadata": {
        "colab": {
          "base_uri": "https://localhost:8080/"
        },
        "id": "AxohK7rH1St7",
        "outputId": "d3c3e637-7092-4a6d-8b89-122df6874311"
      },
      "execution_count": null,
      "outputs": [
        {
          "output_type": "stream",
          "name": "stdout",
          "text": [
            "[1 2 3 4]\n",
            "[1 2 3 4]\n",
            "[ 2 17]\n"
          ]
        }
      ]
    },
    {
      "cell_type": "markdown",
      "source": [
        "Q2- Write a NumPy program to test whether any of the elements of a given array is non-zero."
      ],
      "metadata": {
        "id": "vNKi0WZY-r4m"
      }
    },
    {
      "cell_type": "code",
      "source": [
        "x = np.array([0, 0, 0, 0])\n",
        "y = np.array([4, 5, 6, 0])\n",
        "print(np.any(x))\n",
        "print(np.any(y))"
      ],
      "metadata": {
        "colab": {
          "base_uri": "https://localhost:8080/"
        },
        "id": "b_6v_lvL-woA",
        "outputId": "190581df-ce0a-4374-858f-c13280921ec8"
      },
      "execution_count": null,
      "outputs": [
        {
          "output_type": "stream",
          "name": "stdout",
          "text": [
            "False\n",
            "True\n"
          ]
        }
      ]
    },
    {
      "cell_type": "markdown",
      "source": [
        "Q3- Write a NumPy program to create an array of 10 zeros, 10 ones, 10 fives."
      ],
      "metadata": {
        "id": "5OIM_pRD_692"
      }
    },
    {
      "cell_type": "code",
      "source": [
        "arr0=np.zeros(10)\n",
        "arr1=np.ones(10)\n",
        "arr5=np.ones(10)*5\n",
        "print(arr0)\n",
        "print(arr1)\n",
        "print(arr5)"
      ],
      "metadata": {
        "colab": {
          "base_uri": "https://localhost:8080/"
        },
        "id": "5i7FHWfK_9vG",
        "outputId": "602bc74d-a6c0-4e6b-f944-9dff38329d8e"
      },
      "execution_count": null,
      "outputs": [
        {
          "output_type": "stream",
          "name": "stdout",
          "text": [
            "[0. 0. 0. 0. 0. 0. 0. 0. 0. 0.]\n",
            "[1. 1. 1. 1. 1. 1. 1. 1. 1. 1.]\n",
            "[5. 5. 5. 5. 5. 5. 5. 5. 5. 5.]\n"
          ]
        }
      ]
    },
    {
      "cell_type": "markdown",
      "source": [
        "Q4- Write a NumPy program to create an array of 10 zeros 3d"
      ],
      "metadata": {
        "id": "-gNWzEcsA_QO"
      }
    },
    {
      "cell_type": "code",
      "source": [
        "arr=np.array([[[np.zeros(10)]]])\n",
        "print(arr[0][0])"
      ],
      "metadata": {
        "colab": {
          "base_uri": "https://localhost:8080/"
        },
        "id": "mRm4W6YzBCpZ",
        "outputId": "36fb67ba-d08c-4f5a-dfca-ace885b5f696"
      },
      "execution_count": null,
      "outputs": [
        {
          "output_type": "stream",
          "name": "stdout",
          "text": [
            "[[0. 0. 0. 0. 0. 0. 0. 0. 0. 0.]]\n"
          ]
        }
      ]
    },
    {
      "cell_type": "markdown",
      "source": [
        "Q5- Write a NumPy program to create an array of the integers from 30 to 70.\n"
      ],
      "metadata": {
        "id": "6bvSbVLkBwz0"
      }
    },
    {
      "cell_type": "code",
      "source": [
        "array=np.arange(30,71)\n",
        "print(array)"
      ],
      "metadata": {
        "colab": {
          "base_uri": "https://localhost:8080/"
        },
        "id": "LWPu3-LNB1D0",
        "outputId": "ea6679c6-3cd8-4f9d-b9af-3ed6b4e4bf49"
      },
      "execution_count": null,
      "outputs": [
        {
          "output_type": "stream",
          "name": "stdout",
          "text": [
            "[30 31 32 33 34 35 36 37 38 39 40 41 42 43 44 45 46 47 48 49 50 51 52 53\n",
            " 54 55 56 57 58 59 60 61 62 63 64 65 66 67 68 69 70]\n"
          ]
        }
      ]
    },
    {
      "cell_type": "markdown",
      "source": [
        "Q6- Write a NumPy program to create a 3x3 identity matrix.\n"
      ],
      "metadata": {
        "id": "Sd2MkfjuCwut"
      }
    },
    {
      "cell_type": "code",
      "source": [
        "print(np.identity(3))"
      ],
      "metadata": {
        "colab": {
          "base_uri": "https://localhost:8080/"
        },
        "id": "8stiIjg3Cy_r",
        "outputId": "432f5615-339f-44fd-944f-029aa9464bb6"
      },
      "execution_count": null,
      "outputs": [
        {
          "output_type": "stream",
          "name": "stdout",
          "text": [
            "[[1. 0. 0.]\n",
            " [0. 1. 0.]\n",
            " [0. 0. 1.]]\n"
          ]
        }
      ]
    },
    {
      "cell_type": "markdown",
      "source": [
        "Q7- Write a NumPy program to generate a random number between 0 and 1."
      ],
      "metadata": {
        "id": "XRpCn34_DBeP"
      }
    },
    {
      "cell_type": "code",
      "source": [
        "print(np.random.normal((0,1,1)))"
      ],
      "metadata": {
        "colab": {
          "base_uri": "https://localhost:8080/"
        },
        "id": "F_DQ02JPEM4P",
        "outputId": "92b0767d-6b2a-4e51-96df-a30324db3379"
      },
      "execution_count": null,
      "outputs": [
        {
          "output_type": "stream",
          "name": "stdout",
          "text": [
            "[0.25850811 0.88239042 0.25188617]\n"
          ]
        }
      ]
    },
    {
      "cell_type": "markdown",
      "source": [
        "Q8- Write a NumPy program to create a 3X4 array using and iterate over it"
      ],
      "metadata": {
        "id": "zwW-LdQnEqAS"
      }
    },
    {
      "cell_type": "code",
      "source": [
        "a = np.arange(10,22).reshape((3, 4))\n",
        "for x in np.nditer(a):\n",
        "  print(x,end=\" \")"
      ],
      "metadata": {
        "colab": {
          "base_uri": "https://localhost:8080/"
        },
        "id": "t2w1qqtSEtN5",
        "outputId": "0d38f695-5ce5-4c7d-8128-d88fe1176869"
      },
      "execution_count": null,
      "outputs": [
        {
          "output_type": "stream",
          "name": "stdout",
          "text": [
            "10 11 12 13 14 15 16 17 18 19 20 21 "
          ]
        }
      ]
    },
    {
      "cell_type": "markdown",
      "source": [
        "Q9- Write a NumPy program to create a 10x10 matrix, in which the elements on the borders will be equal to 1, and\n",
        "inside 0."
      ],
      "metadata": {
        "id": "skEaHbtlFFsa"
      }
    },
    {
      "cell_type": "code",
      "source": [
        "arr = np.ones((10, 10))\n",
        "arr[1:-1, 1:-1] = 0\n",
        "print(x)"
      ],
      "metadata": {
        "colab": {
          "base_uri": "https://localhost:8080/"
        },
        "id": "GOFGu3rhFGUv",
        "outputId": "a211faad-229d-4da5-8ae9-5ca356143372"
      },
      "execution_count": null,
      "outputs": [
        {
          "output_type": "stream",
          "name": "stdout",
          "text": [
            "[[1. 1. 1. 1. 1. 1. 1. 1. 1. 1.]\n",
            " [1. 0. 0. 0. 0. 0. 0. 0. 0. 1.]\n",
            " [1. 0. 0. 0. 0. 0. 0. 0. 0. 1.]\n",
            " [1. 0. 0. 0. 0. 0. 0. 0. 0. 1.]\n",
            " [1. 0. 0. 0. 0. 0. 0. 0. 0. 1.]\n",
            " [1. 0. 0. 0. 0. 0. 0. 0. 0. 1.]\n",
            " [1. 0. 0. 0. 0. 0. 0. 0. 0. 1.]\n",
            " [1. 0. 0. 0. 0. 0. 0. 0. 0. 1.]\n",
            " [1. 0. 0. 0. 0. 0. 0. 0. 0. 1.]\n",
            " [1. 1. 1. 1. 1. 1. 1. 1. 1. 1.]]\n"
          ]
        }
      ]
    },
    {
      "cell_type": "markdown",
      "source": [
        "Q10"
      ],
      "metadata": {
        "id": "TktSx9eIHNL2"
      }
    },
    {
      "cell_type": "code",
      "execution_count": null,
      "metadata": {
        "colab": {
          "base_uri": "https://localhost:8080/",
          "height": 38
        },
        "id": "aR_QafDTcvZ6",
        "outputId": "944456c8-f7e6-4d43-ba30-72b7b3d6cc57"
      },
      "outputs": [
        {
          "output_type": "display_data",
          "data": {
            "text/plain": [
              "<PIL.Image.Image image mode=RGB size=21x21 at 0x7F228159CB10>"
            ],
            "image/png": "[encoded data removed]"
          },
          "metadata": {}
        }
      ],
      "source": [
        "\n",
        "import numpy as np\n",
        "import cv2\n",
        "from google.colab.patches import cv2_imshow\n",
        "img = cv2.imread('./Task_in.jpg')\n",
        "cv2_imshow(img)\n",
        "\n"
      ]
    },
    {
      "cell_type": "code",
      "source": [
        "(h, w) = img.shape[:2]\n",
        "(cX, cY) = (w // 2, h // 2)\n",
        "tr = img[0:cY, cX:w]\n",
        "img[0:cY, cX:w] = (0, 0,255)\n",
        "cv2_imshow(img)"
      ],
      "metadata": {
        "colab": {
          "base_uri": "https://localhost:8080/",
          "height": 38
        },
        "id": "1G4GSPZzKvb9",
        "outputId": "fbc85c63-bc25-44ae-c224-a998ca546601"
      },
      "execution_count": null,
      "outputs": [
        {
          "output_type": "display_data",
          "data": {
            "text/plain": [
              "<PIL.Image.Image image mode=RGB size=21x21 at 0x7F22815EA950>"
            ],
            "image/png": "[encoded data removed]"
          },
          "metadata": {}
        }
      ]
    },
    {
      "cell_type": "code",
      "source": [
        "cv2.imwrite('my_image.png',img)"
      ],
      "metadata": {
        "colab": {
          "base_uri": "https://localhost:8080/"
        },
        "id": "1axfwDVUIsi0",
        "outputId": "3a50798e-0a4f-4b8c-97ea-a48a070767d2"
      },
      "execution_count": null,
      "outputs": [
        {
          "output_type": "execute_result",
          "data": {
            "text/plain": [
              "True"
            ]
          },
          "metadata": {},
          "execution_count": 55
        }
      ]
    },
    {
      "cell_type": "markdown",
      "source": [
        "Q11-make 51 51 3 RGB image with Blue color then save it as”Blue.jpg”"
      ],
      "metadata": {
        "id": "kT35ZCMYL4pk"
      }
    },
    {
      "cell_type": "code",
      "source": [
        "import numpy as np\n",
        "from matplotlib import pyplot as plt\n",
        "img = np.ones((51,51,3),np.uint8)*255\n",
        "img[:]=(0,0,255)\n",
        "print(img.shape)\n",
        "plt.imshow(img)"
      ],
      "metadata": {
        "colab": {
          "base_uri": "https://localhost:8080/",
          "height": 302
        },
        "id": "wgfrNyvBL6FU",
        "outputId": "8fea5d26-5300-4a4b-b3f9-56bcec094e11"
      },
      "execution_count": null,
      "outputs": [
        {
          "output_type": "stream",
          "name": "stdout",
          "text": [
            "(51, 51, 3)\n"
          ]
        },
        {
          "output_type": "execute_result",
          "data": {
            "text/plain": [
              "<matplotlib.image.AxesImage at 0x7efd454b1d50>"
            ]
          },
          "metadata": {},
          "execution_count": 3
        },
        {
          "output_type": "display_data",
          "data": {
            "text/plain": [
              "<Figure size 432x288 with 1 Axes>"
            ],
            "image/png": "[encoded data removed]"
          },
          "metadata": {
            "needs_background": "light"
          }
        }
      ]
    },
    {
      "cell_type": "code",
      "source": [
        "img = cv2.cvtColor(img, cv2.COLOR_BGR2RGB )\n",
        "cv2.imwrite('Blue.jpg',img)"
      ],
      "metadata": {
        "colab": {
          "base_uri": "https://localhost:8080/"
        },
        "id": "yqEoiK9HOLgA",
        "outputId": "9c7ce2ee-b4b1-4fd2-e719-c929e3225e72"
      },
      "execution_count": null,
      "outputs": [
        {
          "output_type": "execute_result",
          "data": {
            "text/plain": [
              "True"
            ]
          },
          "metadata": {},
          "execution_count": 68
        }
      ]
    },
    {
      "cell_type": "markdown",
      "source": [
        "Q12- Make trackbar for rgb colors with window “colors” ."
      ],
      "metadata": {
        "id": "02zx38ekMdH-"
      }
    },
    {
      "cell_type": "code",
      "source": [
        "import numpy as np\n",
        "import cv2\n",
        "def nothing(x):\n",
        "  print(x)\n",
        "  return\n",
        "img = np.zeros((512,512,3), np.uint8)\n",
        "initial_val=100\n",
        "cv2.namedWindow('Color')\n",
        "cv2.createTrackbar('r','Color',initial_val,255,nothing)\n",
        "cv2.createTrackbar('g','Color',initial_val,255,nothing)\n",
        "cv2.createTrackbar('b','Color',initial_val,255,nothing)\n",
        "while(1):\n",
        "  r= int(cv2.getTrackbarPos('r','Color'))\n",
        "  g=int(cv2.getTrackbarPos('g','Color'))\n",
        "  b=int(cv2.getTrackbarPos('b','Color'))\n",
        "  img[:,:,0]=b\n",
        "  img[:,:,1]=g\n",
        "  img[:,:,2]=r\n",
        "  cv2.imshow('Color',img)\n",
        "  k=cv2.waitKey(1)\n",
        "  if(k==ord('q')):\n",
        "    break\n",
        "cv2.destroyAllWindows()"
      ],
      "metadata": {
        "id": "9Fwb64oSMd2e"
      },
      "execution_count": null,
      "outputs": []
    }
  ]
}