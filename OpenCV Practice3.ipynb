{
  "cells": [
    {
      "cell_type": "markdown",
      "metadata": {
        "id": "AEKBW9K79SEW"
      },
      "source": [
        "Q1- Create image 256 x 256 Draw red square 50*50 in the center of blue circle with\n",
        "radius 80 the center of both square and circle is the same center of image.\n"
      ]
    },
    {
      "cell_type": "code",
      "execution_count": null,
      "metadata": {
        "id": "gZ31wfVr9SEY",
        "outputId": "87918fed-7f12-4b73-e6bb-edbf36bc06d7"
      },
      "outputs": [
        {
          "data": {
            "text/plain": [
              "<matplotlib.image.AxesImage at 0x20f3f5c2c80>"
            ]
          },
          "execution_count": 8,
          "metadata": {},
          "output_type": "execute_result"
        },
        {
          "data": {
            "image/png": "[encoded data removed]",
            "text/plain": [
              "<Figure size 432x288 with 1 Axes>"
            ]
          },
          "metadata": {
            "needs_background": "light"
          },
          "output_type": "display_data"
        }
      ],
      "source": [
        "import cv2\n",
        "import numpy as np\n",
        "from matplotlib import pyplot as plt \n",
        "\n",
        "img=np.zeros((256,256,3), np.uint8)\n",
        "img[:]=0\n",
        "cv2.circle(img,(128,128),80,(255,0,0),5)\n",
        "cv2.rectangle(img,(103,103),(153,153),(0,0,255),-1)\n",
        "plt.imshow(img[:,:,::-1])"
      ]
    },
    {
      "cell_type": "markdown",
      "metadata": {
        "id": "mFhoJLEO9SEa"
      },
      "source": [
        "Q2 make trackbar to control line position ,color and thickness in image 500*500\n",
        "rgb."
      ]
    },
    {
      "cell_type": "code",
      "execution_count": null,
      "metadata": {
        "id": "x1IhBNoF9SEb",
        "outputId": "abe40507-5d62-4a3c-c1df-8e0f1abedef9"
      },
      "outputs": [
        {
          "data": {
            "text/plain": [
              "<matplotlib.image.AxesImage at 0x184e071fbb0>"
            ]
          },
          "execution_count": 34,
          "metadata": {},
          "output_type": "execute_result"
        },
        {
          "data": {
            "image/png": "[encoded data removed]",
            "text/plain": [
              "<Figure size 432x288 with 1 Axes>"
            ]
          },
          "metadata": {
            "needs_background": "light"
          },
          "output_type": "display_data"
        }
      ],
      "source": [
        "import numpy as np\n",
        "import cv2\n",
        "from matplotlib import pyplot as plt\n",
        "img = np.zeros((500,500,3), np.uint8)\n",
        "def nothing(x):\n",
        "  return\n",
        "img[:]=(0,0,0)\n",
        "initial_val=0\n",
        "\n",
        "cv2.namedWindow('SetPos')\n",
        "#position\n",
        "cv2.createTrackbar('sX','SetPos',initial_val,500,nothing)\n",
        "cv2.createTrackbar('sY','SetPos',initial_val,500,nothing)\n",
        "cv2.createTrackbar('eX','SetPos',initial_val,500,nothing)\n",
        "cv2.createTrackbar('eY','SetPos',initial_val,500,nothing)\n",
        "#color\n",
        "cv2.createTrackbar('rc','SetPos',initial_val,255,nothing)\n",
        "cv2.createTrackbar('gc','SetPos',initial_val,255,nothing)\n",
        "cv2.createTrackbar('bc','SetPos',initial_val,255,nothing)\n",
        "#thickness\n",
        "cv2.createTrackbar('th','SetPos',1,50,nothing)\n",
        "\n",
        "while(1):\n",
        "    img=np.zeros((500,500,3), np.uint8)\n",
        "    sX= cv2.getTrackbarPos('sX','SetPos')\n",
        "    sY= cv2.getTrackbarPos('sY','SetPos')\n",
        "    eX= cv2.getTrackbarPos('eX','SetPos')\n",
        "    eY= cv2.getTrackbarPos('eY','SetPos')\n",
        "    rc= cv2.getTrackbarPos('rc','SetPos')\n",
        "    gc= cv2.getTrackbarPos('gc','SetPos')\n",
        "    bc= cv2.getTrackbarPos('bc','SetPos')\n",
        "    th= cv2.getTrackbarPos('th','SetPos')\n",
        "    cv2.line(img,(sX,sY),(eX,eY),(bc,gc,rc),th)\n",
        "    cv2.imshow('SetPos',img)\n",
        "    k=cv2.waitKey(1)\n",
        "    if(k==ord('q')):\n",
        "      break\n",
        "cv2.destroyAllWindows()\n",
        "plt.imshow(img[:,:,::-1])\n"
      ]
    },
    {
      "cell_type": "markdown",
      "metadata": {
        "id": "jdxcylKO9SEc"
      },
      "source": [
        "Q3 make trackbar to control position,radius and color of circle in image 500*500\n",
        "rgb."
      ]
    },
    {
      "cell_type": "code",
      "execution_count": null,
      "metadata": {
        "id": "7PkYVTP-9SEc",
        "outputId": "c5ab48ea-1af5-4058-8e57-be50c4f82930"
      },
      "outputs": [
        {
          "data": {
            "text/plain": [
              "<matplotlib.image.AxesImage at 0x184d92b8130>"
            ]
          },
          "execution_count": 5,
          "metadata": {},
          "output_type": "execute_result"
        },
        {
          "data": {
            "image/png": "[encoded data removed]",
            "text/plain": [
              "<Figure size 432x288 with 1 Axes>"
            ]
          },
          "metadata": {
            "needs_background": "light"
          },
          "output_type": "display_data"
        }
      ],
      "source": [
        "import numpy as np\n",
        "import cv2\n",
        "from matplotlib import pyplot as plt\n",
        "def nothing(x):\n",
        "  return\n",
        "img = np.zeros((500,500,3), np.uint8)\n",
        "img[:]=(0,0,0)\n",
        "initial_val=0\n",
        "\n",
        "cv2.namedWindow('SetPos')\n",
        "#position\n",
        "cv2.createTrackbar('pX','SetPos',initial_val,500,nothing)\n",
        "cv2.createTrackbar('pY','SetPos',initial_val,500,nothing)\n",
        "#raduis\n",
        "cv2.createTrackbar('rd','SetPos',initial_val,250,nothing)\n",
        "#color\n",
        "cv2.createTrackbar('rc','SetPos',initial_val,255,nothing)\n",
        "cv2.createTrackbar('gc','SetPos',initial_val,255,nothing)\n",
        "cv2.createTrackbar('bc','SetPos',initial_val,255,nothing)\n",
        "\n",
        "while(1):\n",
        "  img = np.zeros((500,500,3), np.uint8)\n",
        "  pX= cv2.getTrackbarPos('pX','SetPos')\n",
        "  pY= cv2.getTrackbarPos('pY','SetPos')\n",
        "  rd= cv2.getTrackbarPos('rd','SetPos')\n",
        "  rc= cv2.getTrackbarPos('rc','SetPos')\n",
        "  gc= cv2.getTrackbarPos('gc','SetPos')\n",
        "  bc= cv2.getTrackbarPos('bc','SetPos')\n",
        "  cv2.circle(img,(pX,pY),rd,(bc,gc,rc),5)\n",
        "  cv2.imshow('SetPos',img)\n",
        "  k=cv2.waitKey(1)\n",
        "  if(k==ord('q')):\n",
        "     break\n",
        "cv2.destroyAllWindows()\n",
        "plt.imshow(img[:,:,::-1])\n",
        "\n",
        "\n"
      ]
    },
    {
      "cell_type": "markdown",
      "metadata": {
        "id": "XO1zrSaJ9SEd"
      },
      "source": [
        "Q4 create image 800*800 rgb write a word “Hello”with red color and draw yellow\n",
        "rectangle on border of word "
      ]
    },
    {
      "cell_type": "code",
      "execution_count": null,
      "metadata": {
        "id": "a6COxeAS9SEd",
        "outputId": "aab55805-a9ba-4d07-d686-bfe252014c9d"
      },
      "outputs": [
        {
          "data": {
            "text/plain": [
              "<matplotlib.image.AxesImage at 0x184de1d8d60>"
            ]
          },
          "execution_count": 24,
          "metadata": {},
          "output_type": "execute_result"
        },
        {
          "data": {
            "image/png": "[encoded data removed]",
            "text/plain": [
              "<Figure size 432x288 with 1 Axes>"
            ]
          },
          "metadata": {
            "needs_background": "light"
          },
          "output_type": "display_data"
        }
      ],
      "source": [
        "import cv2\n",
        "import numpy as np\n",
        "from matplotlib import pyplot as plt\n",
        "\n",
        "img=np.zeros((800,800,3), np.uint8)\n",
        "cv2.putText(img,'Hello',(200,400),cv2.FONT_HERSHEY_SIMPLEX,5,(0,0,255),10,cv2.FILLED)\n",
        "cv2.rectangle(img,(140,240),(650,450),(0,255,255),5)\n",
        "plt.imshow(img[:,:,::-1])"
      ]
    },
    {
      "cell_type": "markdown",
      "metadata": {
        "id": "U5uiuauh9SEe"
      },
      "source": [
        "Q5 create image 800*800 rgb with red circle in center of image with radius 100\n",
        "and make small blue circle with radius of 6 that move within circumference of the\n",
        "big circle every 1 second 10 degree. "
      ]
    },
    {
      "cell_type": "code",
      "execution_count": null,
      "metadata": {
        "id": "YF8DyLqI9SEe",
        "outputId": "075d8ecf-1e59-44e5-cff3-66b8715e42a3"
      },
      "outputs": [
        {
          "data": {
            "text/plain": [
              "<matplotlib.image.AxesImage at 0x24e74cd0400>"
            ]
          },
          "execution_count": 3,
          "metadata": {},
          "output_type": "execute_result"
        },
        {
          "data": {
            "image/png": "[encoded data removed]",
            "text/plain": [
              "<Figure size 432x288 with 1 Axes>"
            ]
          },
          "metadata": {
            "needs_background": "light"
          },
          "output_type": "display_data"
        }
      ],
      "source": [
        "from time import time,sleep\n",
        "import math\n",
        "import cv2\n",
        "import numpy as np\n",
        "from matplotlib import pyplot as plt\n",
        "angle=0\n",
        "#x=int((400+100*math.cos(math.radians(angle))))\n",
        "#y=int((300+100*math.cos(math.radians(angle))))\n",
        "img=np.zeros((800,800,3), np.uint8)\n",
        "cv2.namedWindow('image')\n",
        "\n",
        "while(1):\n",
        "    img=np.zeros((800,800,3), np.uint8)\n",
        "    x=int((400+100*math.cos(math.radians(angle))))\n",
        "    y=int((400+100*math.sin(math.radians(angle))))\n",
        "    cv2.circle(img,(400,400),100,(0,0,255),5)\n",
        "    cv2.circle(img,(x,y),6,(255,0, 0),-1)\n",
        "    cv2.imshow('image',img) \n",
        "    sleep(1)\n",
        "    angle=angle+10\n",
        "    if cv2.waitKey(1) == ord('q'):\n",
        "         break\n",
        "cv2.destroyAllWindows()\n",
        "plt.imshow(img[:,:,::-1])"
      ]
    }
  ],
  "metadata": {
    "kernelspec": {
      "display_name": "Python 3.10.4 64-bit",
      "language": "python",
      "name": "python3"
    },
    "language_info": {
      "codemirror_mode": {
        "name": "ipython",
        "version": 3
      },
      "file_extension": ".py",
      "mimetype": "text/x-python",
      "name": "python",
      "nbconvert_exporter": "python",
      "pygments_lexer": "ipython3",
      "version": "3.10.4"
    },
    "orig_nbformat": 4,
    "vscode": {
      "interpreter": {
        "hash": "8c3d4d9970fc5c09c50d9318a9c7fbf4d0159e4b28833276f5678ee22bded273"
      }
    },
    "colab": {
      "provenance": []
    }
  },
  "nbformat": 4,
  "nbformat_minor": 0
}